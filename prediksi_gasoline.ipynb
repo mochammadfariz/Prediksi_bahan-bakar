{
  "nbformat": 4,
  "nbformat_minor": 0,
  "metadata": {
    "colab": {
      "name": "prediksi_gasoline.ipynb",
      "version": "0.3.2",
      "provenance": [],
      "collapsed_sections": []
    },
    "kernelspec": {
      "name": "python3",
      "display_name": "Python 3"
    }
  },
  "cells": [
    {
      "metadata": {
        "id": "HlgO9Kj3hS-w",
        "colab_type": "code",
        "colab": {}
      },
      "cell_type": "code",
      "source": [
        "import vega_datasets\n",
        "import matplotlib.pyplot as p\n",
        "import seaborn as sn\n",
        "from sklearn.linear_model import LinearRegression\n",
        "import sklearn.metrics as sm"
      ],
      "execution_count": 0,
      "outputs": []
    },
    {
      "metadata": {
        "id": "fErv_3MZhqax",
        "colab_type": "code",
        "colab": {}
      },
      "cell_type": "code",
      "source": [
        "limob = vega_datasets.data.cars()"
      ],
      "execution_count": 0,
      "outputs": []
    },
    {
      "metadata": {
        "id": "2-w6sWp2i30F",
        "colab_type": "code",
        "colab": {}
      },
      "cell_type": "code",
      "source": [
        "\n",
        "limob['Miles_per_Gallon']=limob['Miles_per_Gallon'].fillna(limob['Miles_per_Gallon'].mean())"
      ],
      "execution_count": 0,
      "outputs": []
    },
    {
      "metadata": {
        "id": "Bk4Ua4i3jRar",
        "colab_type": "code",
        "colab": {}
      },
      "cell_type": "code",
      "source": [
        "limob['Horsepower'] = limob['Horsepower'].fillna(limob['Horsepower'].mean())"
      ],
      "execution_count": 0,
      "outputs": []
    },
    {
      "metadata": {
        "id": "ln7M56z7nIu2",
        "colab_type": "code",
        "colab": {}
      },
      "cell_type": "code",
      "source": [
        "lini_regression = LinearRegression()"
      ],
      "execution_count": 0,
      "outputs": []
    },
    {
      "metadata": {
        "id": "BTKLDEOOnaXn",
        "colab_type": "code",
        "colab": {
          "base_uri": "https://localhost:8080/",
          "height": 51
        },
        "outputId": "17bd2c3c-76ee-4855-dc79-3f809bfa4b3c"
      },
      "cell_type": "code",
      "source": [
        "lini_regression.fit(limob[['Weight_in_lbs','Horsepower','Displacement']],limob['Miles_per_Gallon'])"
      ],
      "execution_count": 23,
      "outputs": [
        {
          "output_type": "execute_result",
          "data": {
            "text/plain": [
              "LinearRegression(copy_X=True, fit_intercept=True, n_jobs=None,\n",
              "         normalize=False)"
            ]
          },
          "metadata": {
            "tags": []
          },
          "execution_count": 23
        }
      ]
    },
    {
      "metadata": {
        "id": "3F8G-VXBpfzZ",
        "colab_type": "code",
        "colab": {
          "base_uri": "https://localhost:8080/",
          "height": 170
        },
        "outputId": "fc616d30-61ce-4698-894a-49399cdb8a24"
      },
      "cell_type": "code",
      "source": [
        "limob['Weight_in_lbs'].describe()"
      ],
      "execution_count": 25,
      "outputs": [
        {
          "output_type": "execute_result",
          "data": {
            "text/plain": [
              "count     406.000000\n",
              "mean     2979.413793\n",
              "std       847.004328\n",
              "min      1613.000000\n",
              "25%      2226.500000\n",
              "50%      2822.500000\n",
              "75%      3618.250000\n",
              "max      5140.000000\n",
              "Name: Weight_in_lbs, dtype: float64"
            ]
          },
          "metadata": {
            "tags": []
          },
          "execution_count": 25
        }
      ]
    },
    {
      "metadata": {
        "id": "DWjcrl_hqcK-",
        "colab_type": "code",
        "colab": {
          "base_uri": "https://localhost:8080/",
          "height": 34
        },
        "outputId": "b46e2ccd-0043-48a3-fb3e-8f16abc9cb6e"
      },
      "cell_type": "code",
      "source": [
        "lini_regression.predict([[4000,200,100]])"
      ],
      "execution_count": 26,
      "outputs": [
        {
          "output_type": "execute_result",
          "data": {
            "text/plain": [
              "array([15.09243495])"
            ]
          },
          "metadata": {
            "tags": []
          },
          "execution_count": 26
        }
      ]
    },
    {
      "metadata": {
        "id": "SwgYaDWYrRca",
        "colab_type": "code",
        "colab": {
          "base_uri": "https://localhost:8080/",
          "height": 34
        },
        "outputId": "dfa575c0-eeba-4836-924e-80b612556c5d"
      },
      "cell_type": "code",
      "source": [
        "lini_regression.coef_"
      ],
      "execution_count": 27,
      "outputs": [
        {
          "output_type": "execute_result",
          "data": {
            "text/plain": [
              "array([-0.00566202, -0.0328139 , -0.00497005])"
            ]
          },
          "metadata": {
            "tags": []
          },
          "execution_count": 27
        }
      ]
    },
    {
      "metadata": {
        "id": "KoZ1MvJ8rsDv",
        "colab_type": "code",
        "colab": {}
      },
      "cell_type": "code",
      "source": [
        ""
      ],
      "execution_count": 0,
      "outputs": []
    }
  ]
}